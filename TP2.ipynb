{
 "cells": [
  {
   "cell_type": "code",
   "execution_count": 2,
   "metadata": {},
   "outputs": [],
   "source": [
    "#Roua Mokni 2LM2_TP1\n"
   ]
  },
  {
   "cell_type": "code",
   "execution_count": null,
   "metadata": {},
   "outputs": [],
   "source": [
    "import numpy as np"
   ]
  },
  {
   "attachments": {},
   "cell_type": "markdown",
   "metadata": {},
   "source": [
    "importer les librairies nécessaires pour le code"
   ]
  },
  {
   "cell_type": "code",
   "execution_count": 3,
   "metadata": {},
   "outputs": [
    {
     "data": {
      "text/plain": [
       "2"
      ]
     },
     "execution_count": 3,
     "metadata": {},
     "output_type": "execute_result"
    }
   ],
   "source": [
    "def Roll():\n",
    "    return int(np.random.choice([1,2,3,4,5,6],replace=True))\n",
    "Roll()"
   ]
  },
  {
   "attachments": {},
   "cell_type": "markdown",
   "metadata": {},
   "source": [
    "on a crée une fonction qui retourne un entier dans l'intervalle [1,6]"
   ]
  },
  {
   "cell_type": "code",
   "execution_count": 4,
   "metadata": {},
   "outputs": [
    {
     "name": "stdout",
     "output_type": "stream",
     "text": [
      "Coup Num:  1 | Dé:  5\n",
      "Coup Num:  2 | Dé:  2\n",
      "Coup Num:  3 | Dé:  6\n",
      "position = 1 | nbCoup =  3\n",
      "position =  4 Dé =  3 nbCoup =  4\n",
      "position =  8 Dé =  4 nbCoup =  5\n",
      "position =  13 Dé =  5 nbCoup =  6\n",
      "position =  14 Dé =  1 nbCoup =  7\n",
      "position =  16 Dé =  2 nbCoup =  8\n",
      "position =  16 Dé =  6 nbCoup =  9\n",
      "position =  16 Dé =  5 nbCoup =  10\n",
      "position =  19 Dé =  3 nbCoup =  11\n",
      "position =  19 Dé =  5 nbCoup =  12\n",
      "position =  19 Dé =  3 nbCoup =  13\n",
      "position =  19 Dé =  6 nbCoup =  14\n",
      "position =  19 Dé =  5 nbCoup =  15\n",
      "position =  19 Dé =  3 nbCoup =  16\n",
      "position =  19 Dé =  4 nbCoup =  17\n",
      "position =  19 Dé =  5 nbCoup =  18\n",
      "position =  19 Dé =  6 nbCoup =  19\n",
      "position =  20 Dé =  1 nbCoup =  20\n"
     ]
    }
   ],
   "source": [
    "pos = 0\n",
    "nbCoup = 0\n",
    "tmp = 0\n",
    "cible = 20\n",
    "\n",
    "while tmp != 6:\n",
    "    tmp = Roll()\n",
    "    nbCoup = nbCoup + 1\n",
    "    print(\"Coup Num: \",nbCoup,\"| Dé: \",tmp)\n",
    "pos = 1\n",
    "print(\"position = 1 | nbCoup = \",nbCoup)\n",
    "\n",
    "while True:\n",
    "    tmp = Roll()\n",
    "    nbCoup = nbCoup + 1\n",
    "    if (tmp<=cible-pos):\n",
    "        pos = pos + tmp\n",
    "    print (\"position = \",pos,\"Dé = \",tmp,\"nbCoup = \",nbCoup)\n",
    "    if (pos == cible):\n",
    "        break"
   ]
  },
  {
   "attachments": {},
   "cell_type": "markdown",
   "metadata": {},
   "source": [
    "on a créé une simulation d'un jeu ludo avec pos=la position, nbCoup=le nombre de coups, Tmp=le résultat du lancé et cible =le numéro de la carre finale\n"
   ]
  },
  {
   "cell_type": "code",
   "execution_count": 5,
   "metadata": {},
   "outputs": [
    {
     "data": {
      "text/plain": [
       "16.18516"
      ]
     },
     "execution_count": 5,
     "metadata": {},
     "output_type": "execute_result"
    }
   ],
   "source": [
    "\n",
    "\n",
    "def Sim(cible):\n",
    "    pos = 0\n",
    "    nbCoup = 0\n",
    "    tmp = 0\n",
    "\n",
    "    while tmp != 6:\n",
    "        tmp = Roll()\n",
    "        nbCoup = nbCoup + 1\n",
    "        #print(\"Coup Num: \",nbCoup,\"| Dé: \",tmp)\n",
    "    pos = 1\n",
    "    # print(\"position = 1 | nbCoup = \",nbCoup)\n",
    "\n",
    "    while True:\n",
    "        tmp = Roll()\n",
    "        nbCoup = nbCoup + 1\n",
    "        if (tmp<=cible-pos):\n",
    "            pos = pos + tmp\n",
    "        #print (\"position = \",pos,\"Dé = \",tmp,\"nbCoup = \",nbCoup)\n",
    "        if (pos == cible):\n",
    "            break\n",
    "    return nbCoup\n",
    "\n",
    "np.random.seed(2023)\n",
    "list = [Sim(20) for i in range(50000)]\n",
    "moyenne = sum(list)/50000\n",
    "moyenne\n"
   ]
  },
  {
   "attachments": {},
   "cell_type": "markdown",
   "metadata": {},
   "source": [
    "on a créé avec le script précédant une fonction qui prend comme argument le cible et qui fait une simulation d'un jeu ludo\n"
   ]
  },
  {
   "cell_type": "code",
   "execution_count": 6,
   "metadata": {},
   "outputs": [
    {
     "data": {
      "text/plain": [
       "[16.25892, 17.60608, 19.07574, 20.45478, 21.90242]"
      ]
     },
     "execution_count": 6,
     "metadata": {},
     "output_type": "execute_result"
    }
   ],
   "source": [
    "scenario = [20, 25, 30, 35, 40]\n",
    "moy = [sum([Sim(s) for i in range(50000)])/50000 for s in scenario]\n",
    "moy"
   ]
  },
  {
   "attachments": {},
   "cell_type": "markdown",
   "metadata": {},
   "source": [
    "on a calculé les moyennes des 50000 jeux ludo avec des cibles différentes stockées dans scenario\n"
   ]
  },
  {
   "cell_type": "code",
   "execution_count": 7,
   "metadata": {},
   "outputs": [
    {
     "data": {
      "image/png": "[encoded data removed]",
      "text/plain": [
       "<Figure size 640x480 with 1 Axes>"
      ]
     },
     "metadata": {},
     "output_type": "display_data"
    }
   ],
   "source": [
    "import matplotlib.pyplot as plt\n",
    "plt.plot(scenario,moy,'db')\n",
    "plt.show()\n",
    "\n"
   ]
  },
  {
   "attachments": {},
   "cell_type": "markdown",
   "metadata": {},
   "source": [
    "on a utilisé la bibliothèque matplotlib.pyplot pour afficher les résultats dans un graphe, on a spécifié qu'on va utiliser \"Diamond shape\" avec la premier lettre d et la couleur bleue avec la deuxième lettre b\n"
   ]
  },
  {
   "cell_type": "code",
   "execution_count": 8,
   "metadata": {},
   "outputs": [
    {
     "name": "stdout",
     "output_type": "stream",
     "text": [
      "0.282714 10.578167999999998\n"
     ]
    }
   ],
   "source": [
    "from scipy import stats\n",
    "a, b, r_value, p_value, std_err = stats.linregress(scenario,moy)\n",
    "print(a,b)\n"
   ]
  },
  {
   "cell_type": "code",
   "execution_count": 9,
   "metadata": {},
   "outputs": [
    {
     "data": {
      "image/png": "[encoded data removed]",
      "text/plain": [
       "<Figure size 640x480 with 1 Axes>"
      ]
     },
     "metadata": {},
     "output_type": "display_data"
    }
   ],
   "source": [
    "x = np.linspace(20, 40, 101)\n",
    "y = a*x + b\n",
    "plt.plot(x,y,'-r')\n",
    "plt.plot(scenario,moy,'db')\n",
    "plt.show()"
   ]
  },
  {
   "attachments": {},
   "cell_type": "markdown",
   "metadata": {},
   "source": [
    "on a ajouté une fonction plot avec les paramètres -r qui représente la ligne rouge et a x et y comme image et antécédent"
   ]
  },
  {
   "cell_type": "code",
   "execution_count": 10,
   "metadata": {},
   "outputs": [
    {
     "data": {
      "text/plain": [
       "29.171042"
      ]
     },
     "execution_count": 10,
     "metadata": {},
     "output_type": "execute_result"
    }
   ],
   "source": [
    "func = lambda x:0.286186*x+0.552442\n",
    "func(100)"
   ]
  },
  {
   "cell_type": "code",
   "execution_count": 11,
   "metadata": {},
   "outputs": [
    {
     "data": {
      "text/plain": [
       "67.60748"
      ]
     },
     "execution_count": 11,
     "metadata": {},
     "output_type": "execute_result"
    }
   ],
   "source": [
    "list = [Sim(200) for i in range(50000)]\n",
    "moyenne = sum(list)/50000\n",
    "moyenne\n"
   ]
  }
 ],
 "metadata": {
  "kernelspec": {
   "display_name": "Python 3",
   "language": "python",
   "name": "python3"
  },
  "language_info": {
   "codemirror_mode": {
    "name": "ipython",
    "version": 3
   },
   "file_extension": ".py",
   "mimetype": "text/x-python",
   "name": "python",
   "nbconvert_exporter": "python",
   "pygments_lexer": "ipython3",
   "version": "3.10.9 (tags/v3.10.9:1dd9be6, Dec  6 2022, 20:01:21) [MSC v.1934 64 bit (AMD64)]"
  },
  "orig_nbformat": 4,
  "vscode": {
   "interpreter": {
    "hash": "2822f9ff1d4d0c0c8365ccb850b2a575d565bf3183251839b5d184f3cda04245"
   }
  }
 },
 "nbformat": 4,
 "nbformat_minor": 2
}
